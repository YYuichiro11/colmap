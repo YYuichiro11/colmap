{
 "cells": [
  {
   "cell_type": "code",
   "execution_count": null,
   "metadata": {},
   "outputs": [],
   "source": [
    "import os\n",
    "import subprocess\n",
    "from subprocess import CalledProcessError\n",
    "import shlex\n",
    "\n",
    "EXE_DIR_PATH = \"../build/src/exe/\"\n",
    "WORK_DIR = \"../ir_demo/\"\n",
    "\n",
    "\n",
    "def run_cmd_get_output(cmd):\n",
    "    \"\"\"\n",
    "     limitation: cannot see progress until the process is finished. Not suitable for long-running task. \n",
    "    \"\"\"\n",
    "    try:       \n",
    "        output = subprocess.check_output(cmd, shell=True, stderr=subprocess.STDOUT)\n",
    "        output = output.decode('utf-8')\n",
    "    except CalledProcessError as e:\n",
    "        print(e)\n",
    "        print(\"output: {}\".format(e.output.decode('utf-8')))\n",
    "    return output\n",
    "        \n",
    "def run_cmd(command):\n",
    "    \"\"\"\n",
    "    get stdout realtime. \n",
    "    \"\"\"\n",
    "    print(\"$ \", command)\n",
    "    process = subprocess.Popen(shlex.split(command), stdout=subprocess.PIPE)\n",
    "    while True:\n",
    "        output = process.stdout.readline()\n",
    "        if not output:\n",
    "            break\n",
    "        if output:\n",
    "            print(output.strip().decode('utf-8'))\n",
    "    rc = process.poll()\n",
    "    return rc\n",
    "        \n",
    "\n",
    "cmd = \"ls {EXE_DIR_PATH}\".format( \\\n",
    "        EXE_DIR_PATH=EXE_DIR_PATH)\n",
    "run_cmd(cmd)"
   ]
  },
  {
   "cell_type": "markdown",
   "metadata": {},
   "source": [
    "# Image Retrieval\n",
    "\n",
    "image retrieval system is already implemented. \n",
    "\n",
    "We need input for the system, and they are:\n",
    "\n",
    "(requirements)\n",
    "* project_dir\n",
    "* database\n",
    "* vocab_tree\n",
    "* database_image_list\n",
    "* query_image_list\n",
    "\n",
    "(optional)\n",
    "* num_images\n",
    "* num_verifications\n",
    "* max_num_features\n",
    "\n",
    "\n",
    "-------------------------------------\n",
    "\n",
    "We assume your project directory has following structure. (You can use symbolic link for images)\n",
    "```\n",
    "/path/to/project/...\n",
    "+── images\n",
    "│   +── image1.jpg\n",
    "│   +── image2.jpg\n",
    "│   +── ...\n",
    "│   +── imageN.jpg\n",
    "```\n",
    "\n",
    "## Vocabulary\n",
    "\n",
    "You can download pre-trained vocab tree from here: https://demuc.de/colmap/#download\n",
    "\n",
    "Put the file into WORK_DIR\n"
   ]
  },
  {
   "cell_type": "code",
   "execution_count": null,
   "metadata": {},
   "outputs": [],
   "source": [
    "DB_PATH = os.path.join(WORK_DIR, \"database.db\")\n",
    "IMAGE_PATH = os.path.join(WORK_DIR, \"images\")\n",
    "\n",
    "VOCAB_TREE_PATH = os.path.join(WORK_DIR, \"vocab_tree-262144.bin\")\n",
    "SAVE_INDEX_PATH = os.path.join(WORK_DIR, \"vocab_tree-262144_image_indexed.bin\")"
   ]
  },
  {
   "cell_type": "markdown",
   "metadata": {},
   "source": [
    "## Alternatively, you can build it from scratch\n",
    "\n",
    "use `vocab_tree_builder`"
   ]
  },
  {
   "cell_type": "code",
   "execution_count": null,
   "metadata": {},
   "outputs": [],
   "source": [
    "# TODO: run voacb_tree_builder command with appropriate args"
   ]
  },
  {
   "cell_type": "markdown",
   "metadata": {},
   "source": [
    "# (Only for the first run) Create Database\n",
    "\n",
    "To keep intermediate data for image retrieval, we use SQLite3 database. "
   ]
  },
  {
   "cell_type": "code",
   "execution_count": null,
   "metadata": {},
   "outputs": [],
   "source": [
    "cmd = \"{EXE_DIR_PATH}database_creator --database_path {DB_PATH}\".format( \\\n",
    "                EXE_DIR_PATH=EXE_DIR_PATH, \\\n",
    "                WORK_DIR=WORK_DIR, \\\n",
    "                DB_PATH=DB_PATH)\n",
    "run_cmd(cmd)"
   ]
  },
  {
   "cell_type": "markdown",
   "metadata": {},
   "source": [
    "# Extracting Features from Images Using COLMAP"
   ]
  },
  {
   "cell_type": "code",
   "execution_count": null,
   "metadata": {},
   "outputs": [],
   "source": [
    "cmd = \"{EXE_DIR_PATH}feature_extractor --database_path {DB_PATH} --image_path {IMAGE_PATH}\".format( \\\n",
    "                EXE_DIR_PATH=EXE_DIR_PATH, \\\n",
    "                DB_PATH=DB_PATH, \\\n",
    "                IMAGE_PATH=IMAGE_PATH)\n",
    "run_cmd(cmd)\n",
    "\n",
    "# Timing 4 min for Oxford5k"
   ]
  },
  {
   "cell_type": "markdown",
   "metadata": {},
   "source": [
    "# Import features\n",
    "Most cases, you want to use pregenerated feature to do fair comparision with other models. Colmap supports feature import.\n",
    "\n",
    "use `feature_importer`"
   ]
  },
  {
   "cell_type": "code",
   "execution_count": null,
   "metadata": {},
   "outputs": [],
   "source": [
    "# TODO: how to import features? I want to use hessaff features. "
   ]
  },
  {
   "cell_type": "markdown",
   "metadata": {},
   "source": [
    "# Add Query Images to Database\n",
    "\n",
    "If you want to use query images that are not in the current database (either cropped version, or new image), you have to put it in the database. "
   ]
  },
  {
   "cell_type": "code",
   "execution_count": null,
   "metadata": {},
   "outputs": [],
   "source": [
    "QUERY_IMAGE_PATH = \"../eval/oxford5k_query_images\"\n",
    "QUERY_IMAGE_LIST_PATH = \"../eval/oxford5k_query_image_list.txt\"\n",
    "\n",
    "cmd = \"{EXE_DIR_PATH}feature_extractor --database_path {DB_PATH} --image_path {QUERY_IMAGE_PATH}\".format( \\\n",
    "                EXE_DIR_PATH=EXE_DIR_PATH, \\\n",
    "                DB_PATH=DB_PATH, \\\n",
    "                QUERY_IMAGE_PATH=QUERY_IMAGE_PATH)\n",
    "run_cmd(cmd)"
   ]
  },
  {
   "cell_type": "markdown",
   "metadata": {},
   "source": [
    "# Run Image Retrieval\n",
    "\n",
    "`vocab_tree_retriever` contains below steps:\n",
    "\n",
    "1. Indexing image. \n",
    "    (check this) with image feature in DB, indexing with the given vocab tree\n",
    "2. \n",
    "\n",
    "...\n",
    "\n",
    "If you omit query_image_list_path, it will use all images in the database. \n",
    "\n",
    "\n",
    "If database is large, making index everytime take long time. Can I save generated index?\n",
    "For experiment purpose. Is it good idea to save index? Can we use the same index again, if some of algorithm is changed?\n",
    "\n",
    "\n",
    "```\n",
    "args:\n",
    "--project_path arg\n",
    "--database_path arg\n",
    "--vocab_tree_path arg\n",
    "--database_image_list_path arg\n",
    "--query_image_list_path arg\n",
    "--num_images arg (=-1)\n",
    "--num_verifications arg (=0)\n",
    "--max_num_features arg (=-1)\n",
    "\n",
    "```"
   ]
  },
  {
   "cell_type": "markdown",
   "metadata": {},
   "source": [
    "# Test Image Retrieval\n",
    "\n",
    "## To get real output use below command with file redirection\n",
    "\n",
    "```\n",
    "../build/src/exe/vocab_tree_retriever --database_path ../ir_demo/database.db --vocab_tree_path ../ir_demo/vocab_tree-262144.bin --save_index_path ../ir_demo/vocab_tree-262144_image_indexed.bin --query_image_list_path ../eval/oxford5k_query_image_list.txt --num_images 1000 > query_result.txt\n",
    "```\n"
   ]
  },
  {
   "cell_type": "code",
   "execution_count": null,
   "metadata": {
    "scrolled": false
   },
   "outputs": [],
   "source": [
    "NUM_VERIFICATIONS = 1000\n",
    "QUERY_IMAGE_LIST_PATH = \"./oxford5k_query_image_list_test.txt\"\n",
    "SINGLE_QUERY_IMAGE_NAME = \"all_souls_000033.jpg\"\n",
    "\n",
    "with open(QUERY_IMAGE_LIST_PATH, \"w\") as f:\n",
    "    f.write(SINGLE_QUERY_IMAGE_NAME+\"\\n\")\n",
    "    \n",
    "import cv2\n",
    "import matplotlib.pyplot as plt\n",
    "%matplotlib inline\n",
    "\n",
    "def parse_query_result(output):\n",
    "    result = {}\n",
    "    for line_idx, line in enumerate(output.split(\"\\n\")[:-1]): # -1 for trailing new line\n",
    "        if line_idx == 0:\n",
    "            # skip header\n",
    "            continue\n",
    "        if \"Querying for image \" in line:\n",
    "            query_name = line.split(\" \")[3]\n",
    "            result[query_name] = []\n",
    "        else:      \n",
    "            result_image_filename = line.strip().split(\", \")[1].split(\"=\")[1]\n",
    "            result_image_name = result_image_filename\n",
    "            result[query_name].append(result_image_name)\n",
    "    return result           \n",
    "\n",
    "def show_image(image_name):\n",
    "    \n",
    "    image_path = os.path.join(IMAGE_PATH, image_name)\n",
    "    # print(\"open image:\", image_path)\n",
    "    img_bgr = cv2.imread(image_path)\n",
    "\n",
    "    img = cv2.cvtColor(img_bgr, cv2.COLOR_BGR2RGB)\n",
    "    \n",
    "    plt.figure()\n",
    "    plt.imshow(img)\n",
    "    plt.show()\n",
    "    \n",
    "    \n",
    "\n",
    "cmd = \"{EXE_DIR_PATH}vocab_tree_retriever --database_path {DB_PATH} --vocab_tree_path {VOCAB_TREE_PATH} --save_index_path {SAVE_INDEX_PATH} --query_image_list_path {QUERY_IMAGE_LIST_PATH} --num_images {NUM_VERIFICATIONS}\".format( \\\n",
    "                EXE_DIR_PATH=EXE_DIR_PATH, \\\n",
    "                DB_PATH=DB_PATH, \\\n",
    "                VOCAB_TREE_PATH=VOCAB_TREE_PATH, \\\n",
    "                SAVE_INDEX_PATH=SAVE_INDEX_PATH, \\\n",
    "                QUERY_IMAGE_LIST_PATH=QUERY_IMAGE_LIST_PATH, \\\n",
    "                NUM_VERIFICATIONS=NUM_VERIFICATIONS)    \n",
    "output = run_cmd_get_output(cmd)\n",
    "# print(output)\n",
    "\n",
    "result = parse_query_result(output)\n",
    "\n",
    "for image_name, rank_list in result.items():\n",
    "    print(\"QUERY image_name:\", image_name)\n",
    "    show_image(image_name)\n",
    "    print(\"RESULT:\")\n",
    "    for rank, filename in enumerate(rank_list[:5]):\n",
    "        print(\"   top{}: {}\".format(rank+1, filename))\n",
    "        show_image(filename)\n",
    "    print()\n"
   ]
  }
 ],
 "metadata": {
  "kernelspec": {
   "display_name": "tf1.3_global",
   "language": "python",
   "name": "tf1.3_global"
  },
  "language_info": {
   "codemirror_mode": {
    "name": "ipython",
    "version": 3
   },
   "file_extension": ".py",
   "mimetype": "text/x-python",
   "name": "python",
   "nbconvert_exporter": "python",
   "pygments_lexer": "ipython3",
   "version": "3.5.2"
  }
 },
 "nbformat": 4,
 "nbformat_minor": 2
}
