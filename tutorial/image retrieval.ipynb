{
 "cells": [
  {
   "cell_type": "code",
   "execution_count": null,
   "metadata": {},
   "outputs": [],
   "source": [
    "import os\n",
    "import subprocess\n",
    "from subprocess import CalledProcessError\n",
    "\n",
    "EXE_DIR_PATH = \"../build/src/exe/\"\n",
    "WORK_DIR = \"../ir_demo/\"\n",
    "\n",
    "\n",
    "def run_cmd(cmd):\n",
    "    try:        \n",
    "        print(\"$ \", cmd)\n",
    "        print()\n",
    "        output = subprocess.check_output(cmd, shell=True, stderr=subprocess.STDOUT)\n",
    "        print(output.decode('utf-8'))\n",
    "    except CalledProcessError as e:\n",
    "        print(e)\n",
    "        print(\"output: {}\".format(e.output.decode('utf-8')))\n",
    "        \n",
    "\n",
    "cmd = \"ls {EXE_DIR_PATH}\".format( \\\n",
    "        EXE_DIR_PATH=EXE_DIR_PATH)\n",
    "run_cmd(cmd)"
   ]
  },
  {
   "cell_type": "markdown",
   "metadata": {},
   "source": [
    "# Image Retrieval\n",
    "\n",
    "image retrieval system is already implemented. \n",
    "\n",
    "We need input for the system, and they are:\n",
    "\n",
    "(requirements)\n",
    "* project_dir\n",
    "* database\n",
    "* vocab_tree\n",
    "* database_image_list\n",
    "* query_image_list\n",
    "\n",
    "(optional)\n",
    "* num_images\n",
    "* num_verifications\n",
    "* max_num_features\n"
   ]
  },
  {
   "cell_type": "markdown",
   "metadata": {},
   "source": [
    "# Vocabulary\n",
    "\n",
    "You can download pre-trained vocab tree from here: https://demuc.de/colmap/#download\n",
    "\n",
    "Put the file into WORK_DIR"
   ]
  },
  {
   "cell_type": "code",
   "execution_count": null,
   "metadata": {},
   "outputs": [],
   "source": [
    "VOCAB_TREE_PATH = os.path.join(WORK_DIR, \"vocab_tree-262144.bin\")"
   ]
  },
  {
   "cell_type": "markdown",
   "metadata": {},
   "source": [
    "## Alternatively, you can build it from scratch\n",
    "\n",
    "use `vocab_tree_builder`"
   ]
  },
  {
   "cell_type": "code",
   "execution_count": null,
   "metadata": {},
   "outputs": [],
   "source": [
    "# TODO: run voacb_tree_builder command with appropriate args"
   ]
  },
  {
   "cell_type": "markdown",
   "metadata": {},
   "source": [
    "# Database\n",
    "\n",
    "To keep intermediate data for image retrieval, we use SQLite3 database. "
   ]
  },
  {
   "cell_type": "code",
   "execution_count": null,
   "metadata": {},
   "outputs": [],
   "source": [
    "DB_PATH = os.path.join(WORK_DIR, \"database\")\n",
    "\n",
    "cmd = \"{EXE_DIR_PATH}database_creator --database_path {DB_PATH}\".format( \\\n",
    "                EXE_DIR_PATH=EXE_DIR_PATH, \\\n",
    "                WORK_DIR=WORK_DIR, \\\n",
    "                DB_PATH=DB_PATH)\n",
    "run_cmd(cmd)"
   ]
  },
  {
   "cell_type": "code",
   "execution_count": null,
   "metadata": {},
   "outputs": [],
   "source": [
    "cmd = \"{EXE_DIR_PATH}vocab_tree_retriever -h --database_path {DB_PATH} --vocab_tree_path {VOCAB_TREE_PATH}\".format( \\\n",
    "                EXE_DIR_PATH=EXE_DIR_PATH, \\\n",
    "                DB_PATH=DB_PATH, \\\n",
    "                VOCAB_TREE_PATH=VOCAB_TREE_PATH)\n",
    "run_cmd(cmd)"
   ]
  }
 ],
 "metadata": {
  "kernelspec": {
   "display_name": "tf1.3_global",
   "language": "python",
   "name": "tf1.3_global"
  },
  "language_info": {
   "codemirror_mode": {
    "name": "ipython",
    "version": 3
   },
   "file_extension": ".py",
   "mimetype": "text/x-python",
   "name": "python",
   "nbconvert_exporter": "python",
   "pygments_lexer": "ipython3",
   "version": "3.5.2"
  }
 },
 "nbformat": 4,
 "nbformat_minor": 2
}
