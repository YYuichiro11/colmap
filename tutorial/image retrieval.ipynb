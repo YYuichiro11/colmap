{
 "cells": [
  {
   "cell_type": "code",
   "execution_count": 1,
   "metadata": {},
   "outputs": [
    {
     "name": "stdout",
     "output_type": "stream",
     "text": [
      "$  ls ../build/src/exe/\n",
      "automatic_reconstructor\n",
      "bundle_adjuster\n",
      "CMakeFiles\n",
      "cmake_install.cmake\n",
      "colmap\n",
      "color_extractor\n",
      "CTestTestfile.cmake\n",
      "database_creator\n",
      "dense_fuser\n",
      "dense_mesher\n",
      "dense_stereo\n",
      "exhaustive_matcher\n",
      "feature_extractor\n",
      "feature_importer\n",
      "image_rectifier\n",
      "image_registrator\n",
      "image_undistorter\n",
      "Makefile\n",
      "mapper\n",
      "matches_importer\n",
      "model_aligner\n",
      "model_analyzer\n",
      "model_converter\n",
      "model_merger\n",
      "model_orientation_aligner\n",
      "point_triangulator\n",
      "rig_bundle_adjuster\n",
      "sequential_matcher\n",
      "spatial_matcher\n",
      "transitive_matcher\n",
      "vocab_tree_builder\n",
      "vocab_tree_matcher\n",
      "vocab_tree_retriever\n"
     ]
    },
    {
     "data": {
      "text/plain": [
       "0"
      ]
     },
     "execution_count": 1,
     "metadata": {},
     "output_type": "execute_result"
    }
   ],
   "source": [
    "import os\n",
    "import subprocess\n",
    "from subprocess import CalledProcessError\n",
    "import shlex\n",
    "\n",
    "EXE_DIR_PATH = \"../build/src/exe/\"\n",
    "WORK_DIR = \"../ir_demo/\"\n",
    "\n",
    "\n",
    "# def run_cmd(cmd):\n",
    "#     \"\"\"\n",
    "#      limitation: cannot see progress until the process is finished. Not suitable for long-running task. \n",
    "#     \"\"\"\n",
    "#     try:        \n",
    "#         print(\"$ \", cmd)\n",
    "#         print()\n",
    "#         output = subprocess.check_output(cmd, shell=True, stderr=subprocess.STDOUT)\n",
    "#         print(output.decode('utf-8'))\n",
    "#     except CalledProcessError as e:\n",
    "#         print(e)\n",
    "#         print(\"output: {}\".format(e.output.decode('utf-8')))\n",
    "        \n",
    "def run_cmd(command):\n",
    "    \"\"\"\n",
    "    get stdout realtime. \n",
    "    \"\"\"\n",
    "    print(\"$ \", command)\n",
    "    process = subprocess.Popen(shlex.split(command), stdout=subprocess.PIPE)\n",
    "    while True:\n",
    "        output = process.stdout.readline()\n",
    "        if not output:\n",
    "            break\n",
    "        if output:\n",
    "            print(output.strip().decode('utf-8'))\n",
    "    rc = process.poll()\n",
    "    return rc\n",
    "        \n",
    "\n",
    "cmd = \"ls {EXE_DIR_PATH}\".format( \\\n",
    "        EXE_DIR_PATH=EXE_DIR_PATH)\n",
    "run_cmd(cmd)"
   ]
  },
  {
   "cell_type": "markdown",
   "metadata": {},
   "source": [
    "# Image Retrieval\n",
    "\n",
    "image retrieval system is already implemented. \n",
    "\n",
    "We need input for the system, and they are:\n",
    "\n",
    "(requirements)\n",
    "* project_dir\n",
    "* database\n",
    "* vocab_tree\n",
    "* database_image_list\n",
    "* query_image_list\n",
    "\n",
    "(optional)\n",
    "* num_images\n",
    "* num_verifications\n",
    "* max_num_features\n",
    "\n",
    "\n",
    "-------------------------------------\n",
    "\n",
    "We assume your project directory has following structure. (You can use symbolic link for images)\n",
    "```\n",
    "/path/to/project/...\n",
    "+── images\n",
    "│   +── image1.jpg\n",
    "│   +── image2.jpg\n",
    "│   +── ...\n",
    "│   +── imageN.jpg\n",
    "```\n"
   ]
  },
  {
   "cell_type": "code",
   "execution_count": 2,
   "metadata": {},
   "outputs": [],
   "source": [
    "DB_PATH = os.path.join(WORK_DIR, \"database.db\")\n",
    "IMAGE_PATH = os.path.join(WORK_DIR, \"images\")"
   ]
  },
  {
   "cell_type": "markdown",
   "metadata": {},
   "source": [
    "# Vocabulary\n",
    "\n",
    "You can download pre-trained vocab tree from here: https://demuc.de/colmap/#download\n",
    "\n",
    "Put the file into WORK_DIR"
   ]
  },
  {
   "cell_type": "code",
   "execution_count": 3,
   "metadata": {},
   "outputs": [],
   "source": [
    "VOCAB_TREE_PATH = os.path.join(WORK_DIR, \"vocab_tree-262144.bin\")\n",
    "SAVE_INDEX_PATH = os.path.join(WORK_DIR, \"vocab_tree-262144_image_indexed.bin\")"
   ]
  },
  {
   "cell_type": "markdown",
   "metadata": {},
   "source": [
    "## Alternatively, you can build it from scratch\n",
    "\n",
    "use `vocab_tree_builder`"
   ]
  },
  {
   "cell_type": "code",
   "execution_count": null,
   "metadata": {},
   "outputs": [],
   "source": [
    "# TODO: run voacb_tree_builder command with appropriate args"
   ]
  },
  {
   "cell_type": "markdown",
   "metadata": {},
   "source": [
    "# Create Database\n",
    "\n",
    "To keep intermediate data for image retrieval, we use SQLite3 database. "
   ]
  },
  {
   "cell_type": "code",
   "execution_count": null,
   "metadata": {},
   "outputs": [],
   "source": [
    "\n",
    "\n",
    "cmd = \"{EXE_DIR_PATH}database_creator --database_path {DB_PATH}\".format( \\\n",
    "                EXE_DIR_PATH=EXE_DIR_PATH, \\\n",
    "                WORK_DIR=WORK_DIR, \\\n",
    "                DB_PATH=DB_PATH)\n",
    "run_cmd(cmd)"
   ]
  },
  {
   "cell_type": "markdown",
   "metadata": {},
   "source": [
    "# Extracting Features from Images Using COLMAP"
   ]
  },
  {
   "cell_type": "code",
   "execution_count": null,
   "metadata": {},
   "outputs": [],
   "source": [
    "cmd = \"{EXE_DIR_PATH}feature_extractor --database_path {DB_PATH} --image_path {IMAGE_PATH}\".format( \\\n",
    "                EXE_DIR_PATH=EXE_DIR_PATH, \\\n",
    "                DB_PATH=DB_PATH, \\\n",
    "                IMAGE_PATH=IMAGE_PATH)\n",
    "run_cmd(cmd)\n",
    "\n",
    "# Timing 4 min for Oxford5k"
   ]
  },
  {
   "cell_type": "markdown",
   "metadata": {},
   "source": [
    "# Import features\n",
    "Most cases, you want to use pregenerated feature to do fair comparision with other models. Colmap supports feature import.\n",
    "\n",
    "use `feature_importer`"
   ]
  },
  {
   "cell_type": "code",
   "execution_count": null,
   "metadata": {},
   "outputs": [],
   "source": [
    "# TODO: how to import features? I want to use hessaff features. "
   ]
  },
  {
   "cell_type": "markdown",
   "metadata": {},
   "source": [
    "# Add Query Images to Database\n",
    "\n",
    "If you want to use query images that are not in the current database (either cropped version, or new image), you have to put it in the database. "
   ]
  },
  {
   "cell_type": "code",
   "execution_count": 5,
   "metadata": {},
   "outputs": [
    {
     "name": "stdout",
     "output_type": "stream",
     "text": [
      "$  ../build/src/exe/feature_extractor --database_path ../ir_demo/database.db --image_path ../eval/oxford5k_query_images\n",
      "\n",
      "==============================================================================\n",
      "Feature extraction\n",
      "==============================================================================\n",
      "\n",
      "Processed file [1/55]\n",
      "Name:            all_souls_1.png\n",
      "SKIP: Features for image already extracted.\n",
      "Processed file [2/55]\n",
      "Name:            all_souls_2.png\n",
      "SKIP: Features for image already extracted.\n",
      "Processed file [3/55]\n",
      "Name:            all_souls_3.png\n",
      "SKIP: Features for image already extracted.\n",
      "Processed file [4/55]\n",
      "Name:            all_souls_4.png\n",
      "SKIP: Features for image already extracted.\n",
      "Processed file [5/55]\n",
      "Name:            all_souls_5.png\n",
      "SKIP: Features for image already extracted.\n",
      "Processed file [6/55]\n",
      "Name:            ashmolean_1.png\n",
      "SKIP: Features for image already extracted.\n",
      "Processed file [7/55]\n",
      "Name:            ashmolean_2.png\n",
      "SKIP: Features for image already extracted.\n",
      "Processed file [8/55]\n",
      "Name:            ashmolean_3.png\n",
      "SKIP: Features for image already extracted.\n",
      "Processed file [9/55]\n",
      "Name:            ashmolean_4.png\n",
      "SKIP: Features for image already extracted.\n",
      "Processed file [10/55]\n",
      "Name:            ashmolean_5.png\n",
      "SKIP: Features for image already extracted.\n",
      "Processed file [11/55]\n",
      "Name:            balliol_1.png\n",
      "SKIP: Features for image already extracted.\n",
      "Processed file [12/55]\n",
      "Name:            balliol_2.png\n",
      "SKIP: Features for image already extracted.\n",
      "Processed file [13/55]\n",
      "Name:            balliol_3.png\n",
      "SKIP: Features for image already extracted.\n",
      "Processed file [14/55]\n",
      "Name:            balliol_4.png\n",
      "SKIP: Features for image already extracted.\n",
      "Processed file [15/55]\n",
      "Name:            balliol_5.png\n",
      "SKIP: Features for image already extracted.\n",
      "Processed file [16/55]\n",
      "Name:            bodleian_1.png\n",
      "SKIP: Features for image already extracted.\n",
      "Processed file [17/55]\n",
      "Name:            bodleian_2.png\n",
      "SKIP: Features for image already extracted.\n",
      "Processed file [18/55]\n",
      "Name:            bodleian_3.png\n",
      "SKIP: Features for image already extracted.\n",
      "Processed file [19/55]\n",
      "Name:            bodleian_4.png\n",
      "SKIP: Features for image already extracted.\n",
      "Processed file [20/55]\n",
      "Name:            bodleian_5.png\n",
      "SKIP: Features for image already extracted.\n",
      "Processed file [21/55]\n",
      "Name:            christ_church_1.png\n",
      "SKIP: Features for image already extracted.\n",
      "Processed file [22/55]\n",
      "Name:            christ_church_2.png\n",
      "SKIP: Features for image already extracted.\n",
      "Processed file [23/55]\n",
      "Name:            christ_church_3.png\n",
      "SKIP: Features for image already extracted.\n",
      "Processed file [24/55]\n",
      "Name:            christ_church_4.png\n",
      "SKIP: Features for image already extracted.\n",
      "Processed file [25/55]\n",
      "Name:            christ_church_5.png\n",
      "SKIP: Features for image already extracted.\n",
      "Processed file [26/55]\n",
      "Name:            cornmarket_1.png\n",
      "SKIP: Features for image already extracted.\n",
      "Processed file [27/55]\n",
      "Name:            cornmarket_2.png\n",
      "SKIP: Features for image already extracted.\n",
      "Processed file [28/55]\n",
      "Name:            cornmarket_3.png\n",
      "SKIP: Features for image already extracted.\n",
      "Processed file [29/55]\n",
      "Name:            cornmarket_4.png\n",
      "SKIP: Features for image already extracted.\n",
      "Processed file [30/55]\n",
      "Name:            cornmarket_5.png\n",
      "SKIP: Features for image already extracted.\n",
      "Processed file [31/55]\n",
      "Name:            hertford_1.png\n",
      "SKIP: Features for image already extracted.\n",
      "Processed file [32/55]\n",
      "Name:            hertford_2.png\n",
      "SKIP: Features for image already extracted.\n",
      "Processed file [33/55]\n",
      "Name:            hertford_3.png\n",
      "SKIP: Features for image already extracted.\n",
      "Processed file [34/55]\n",
      "Name:            hertford_4.png\n",
      "SKIP: Features for image already extracted.\n",
      "Processed file [35/55]\n",
      "Name:            hertford_5.png\n",
      "SKIP: Features for image already extracted.\n",
      "Processed file [36/55]\n",
      "Name:            keble_1.png\n",
      "SKIP: Features for image already extracted.\n",
      "Processed file [37/55]\n",
      "Name:            keble_2.png\n",
      "SKIP: Features for image already extracted.\n",
      "Processed file [38/55]\n",
      "Name:            keble_3.png\n",
      "SKIP: Features for image already extracted.\n",
      "Processed file [39/55]\n",
      "Name:            keble_4.png\n",
      "SKIP: Features for image already extracted.\n",
      "Processed file [40/55]\n",
      "Name:            keble_5.png\n",
      "SKIP: Features for image already extracted.\n",
      "Processed file [41/55]\n",
      "Name:            magdalen_1.png\n",
      "SKIP: Features for image already extracted.\n",
      "Processed file [42/55]\n",
      "Name:            magdalen_2.png\n",
      "SKIP: Features for image already extracted.\n",
      "Processed file [43/55]\n",
      "Name:            magdalen_3.png\n",
      "SKIP: Features for image already extracted.\n",
      "Processed file [44/55]\n",
      "Name:            magdalen_4.png\n",
      "SKIP: Features for image already extracted.\n",
      "Processed file [45/55]\n",
      "Name:            magdalen_5.png\n",
      "SKIP: Features for image already extracted.\n",
      "Processed file [46/55]\n",
      "Name:            pitt_rivers_1.png\n",
      "SKIP: Features for image already extracted.\n",
      "Processed file [47/55]\n",
      "Name:            pitt_rivers_2.png\n",
      "SKIP: Features for image already extracted.\n",
      "Processed file [48/55]\n",
      "Name:            pitt_rivers_3.png\n",
      "SKIP: Features for image already extracted.\n",
      "Processed file [49/55]\n",
      "Name:            pitt_rivers_4.png\n",
      "SKIP: Features for image already extracted.\n",
      "Processed file [50/55]\n",
      "Name:            pitt_rivers_5.png\n",
      "SKIP: Features for image already extracted.\n",
      "Processed file [51/55]\n",
      "Name:            radcliffe_camera_1.png\n",
      "SKIP: Features for image already extracted.\n",
      "Processed file [52/55]\n",
      "Name:            radcliffe_camera_2.png\n",
      "SKIP: Features for image already extracted.\n",
      "Processed file [53/55]\n",
      "Name:            radcliffe_camera_3.png\n",
      "SKIP: Features for image already extracted.\n",
      "Processed file [54/55]\n",
      "Name:            radcliffe_camera_4.png\n",
      "SKIP: Features for image already extracted.\n",
      "Processed file [55/55]\n",
      "Name:            radcliffe_camera_5.png\n",
      "SKIP: Features for image already extracted.\n",
      "Elapsed time: 0.000 [minutes]\n"
     ]
    },
    {
     "data": {
      "text/plain": [
       "0"
      ]
     },
     "execution_count": 5,
     "metadata": {},
     "output_type": "execute_result"
    }
   ],
   "source": [
    "QUERY_IMAGE_PATH = \"../eval/oxford5k_query_images\"\n",
    "QUERY_IMAGE_LIST_PATH = \"../eval/oxford5k_query_image_list.txt\"\n",
    "\n",
    "cmd = \"{EXE_DIR_PATH}feature_extractor --database_path {DB_PATH} --image_path {QUERY_IMAGE_PATH}\".format( \\\n",
    "                EXE_DIR_PATH=EXE_DIR_PATH, \\\n",
    "                DB_PATH=DB_PATH, \\\n",
    "                QUERY_IMAGE_PATH=QUERY_IMAGE_PATH)\n",
    "run_cmd(cmd)"
   ]
  },
  {
   "cell_type": "markdown",
   "metadata": {},
   "source": [
    "# Run Image Retrieval\n",
    "\n",
    "`vocab_tree_retriever` contains below steps:\n",
    "\n",
    "1. Indexing image. \n",
    "    (check this) with image feature in DB, indexing with the given vocab tree\n",
    "2. \n",
    "\n",
    "...\n",
    "\n",
    "If you omit query_image_list_path, it will use all images in the database. \n",
    "\n",
    "\n",
    "If database is large, making index everytime take long time. Can I save generated index?\n",
    "For experiment purpose. Is it good idea to save index? Can we use the same index again, if some of algorithm is changed?\n",
    "\n",
    "\n",
    "```\n",
    "args:\n",
    "--project_path arg\n",
    "--database_path arg\n",
    "--vocab_tree_path arg\n",
    "--database_image_list_path arg\n",
    "--query_image_list_path arg\n",
    "--num_images arg (=-1)\n",
    "--num_verifications arg (=0)\n",
    "--max_num_features arg (=-1)\n",
    "\n",
    "```"
   ]
  },
  {
   "cell_type": "markdown",
   "metadata": {},
   "source": [
    "# Test Image Retrieval\n",
    "\n",
    "## To get real output use below command with file redirection\n",
    "\n",
    "```\n",
    "../build/src/exe/vocab_tree_retriever --database_path ../ir_demo/database.db --vocab_tree_path ../ir_demo/vocab_tree-262144.bin --save_index_path ../ir_demo/vocab_tree-262144_image_indexed.bin --query_image_list_path ../eval/oxford5k_query_image_list.txt --num_images 1000 > query_result.txt\n",
    "```\n"
   ]
  },
  {
   "cell_type": "code",
   "execution_count": 6,
   "metadata": {
    "scrolled": true
   },
   "outputs": [
    {
     "name": "stdout",
     "output_type": "stream",
     "text": [
      "$  ../build/src/exe/vocab_tree_retriever --database_path ../ir_demo/database.db --vocab_tree_path ../ir_demo/vocab_tree-262144.bin --save_index_path ../ir_demo/vocab_tree-262144_image_indexed.bin --query_image_list_path ../eval/oxford5k_query_image_list.txt --num_images 1000\n",
      "Read from saved index file: ../ir_demo/vocab_tree-262144_image_indexed.bin\n"
     ]
    },
    {
     "ename": "KeyboardInterrupt",
     "evalue": "",
     "output_type": "error",
     "traceback": [
      "\u001b[0;31m---------------------------------------------------------------------------\u001b[0m",
      "\u001b[0;31mKeyboardInterrupt\u001b[0m                         Traceback (most recent call last)",
      "\u001b[0;32m<ipython-input-6-94e0d1cd0877>\u001b[0m in \u001b[0;36m<module>\u001b[0;34m()\u001b[0m\n\u001b[1;32m      3\u001b[0m \u001b[0mcmd\u001b[0m \u001b[0;34m=\u001b[0m \u001b[0;34m\"{EXE_DIR_PATH}vocab_tree_retriever --database_path {DB_PATH} --vocab_tree_path {VOCAB_TREE_PATH} --save_index_path {SAVE_INDEX_PATH} --query_image_list_path {QUERY_IMAGE_LIST_PATH} --num_images {NUM_VERIFICATIONS}\"\u001b[0m\u001b[0;34m.\u001b[0m\u001b[0mformat\u001b[0m\u001b[0;34m(\u001b[0m                 \u001b[0mEXE_DIR_PATH\u001b[0m\u001b[0;34m=\u001b[0m\u001b[0mEXE_DIR_PATH\u001b[0m\u001b[0;34m,\u001b[0m                 \u001b[0mDB_PATH\u001b[0m\u001b[0;34m=\u001b[0m\u001b[0mDB_PATH\u001b[0m\u001b[0;34m,\u001b[0m                 \u001b[0mVOCAB_TREE_PATH\u001b[0m\u001b[0;34m=\u001b[0m\u001b[0mVOCAB_TREE_PATH\u001b[0m\u001b[0;34m,\u001b[0m                 \u001b[0mSAVE_INDEX_PATH\u001b[0m\u001b[0;34m=\u001b[0m\u001b[0mSAVE_INDEX_PATH\u001b[0m\u001b[0;34m,\u001b[0m                 \u001b[0mQUERY_IMAGE_LIST_PATH\u001b[0m\u001b[0;34m=\u001b[0m\u001b[0mQUERY_IMAGE_LIST_PATH\u001b[0m\u001b[0;34m,\u001b[0m                 \u001b[0mNUM_VERIFICATIONS\u001b[0m\u001b[0;34m=\u001b[0m\u001b[0mNUM_VERIFICATIONS\u001b[0m\u001b[0;34m)\u001b[0m\u001b[0;34m\u001b[0m\u001b[0m\n\u001b[1;32m      4\u001b[0m \u001b[0;34m\u001b[0m\u001b[0m\n\u001b[0;32m----> 5\u001b[0;31m \u001b[0mrun_cmd\u001b[0m\u001b[0;34m(\u001b[0m\u001b[0mcmd\u001b[0m\u001b[0;34m)\u001b[0m\u001b[0;34m\u001b[0m\u001b[0m\n\u001b[0m",
      "\u001b[0;32m<ipython-input-1-e3c3bd729ebf>\u001b[0m in \u001b[0;36mrun_cmd\u001b[0;34m(command)\u001b[0m\n\u001b[1;32m     28\u001b[0m     \u001b[0mprocess\u001b[0m \u001b[0;34m=\u001b[0m \u001b[0msubprocess\u001b[0m\u001b[0;34m.\u001b[0m\u001b[0mPopen\u001b[0m\u001b[0;34m(\u001b[0m\u001b[0mshlex\u001b[0m\u001b[0;34m.\u001b[0m\u001b[0msplit\u001b[0m\u001b[0;34m(\u001b[0m\u001b[0mcommand\u001b[0m\u001b[0;34m)\u001b[0m\u001b[0;34m,\u001b[0m \u001b[0mstdout\u001b[0m\u001b[0;34m=\u001b[0m\u001b[0msubprocess\u001b[0m\u001b[0;34m.\u001b[0m\u001b[0mPIPE\u001b[0m\u001b[0;34m)\u001b[0m\u001b[0;34m\u001b[0m\u001b[0m\n\u001b[1;32m     29\u001b[0m     \u001b[0;32mwhile\u001b[0m \u001b[0;32mTrue\u001b[0m\u001b[0;34m:\u001b[0m\u001b[0;34m\u001b[0m\u001b[0m\n\u001b[0;32m---> 30\u001b[0;31m         \u001b[0moutput\u001b[0m \u001b[0;34m=\u001b[0m \u001b[0mprocess\u001b[0m\u001b[0;34m.\u001b[0m\u001b[0mstdout\u001b[0m\u001b[0;34m.\u001b[0m\u001b[0mreadline\u001b[0m\u001b[0;34m(\u001b[0m\u001b[0;34m)\u001b[0m\u001b[0;34m\u001b[0m\u001b[0m\n\u001b[0m\u001b[1;32m     31\u001b[0m         \u001b[0;32mif\u001b[0m \u001b[0;32mnot\u001b[0m \u001b[0moutput\u001b[0m\u001b[0;34m:\u001b[0m\u001b[0;34m\u001b[0m\u001b[0m\n\u001b[1;32m     32\u001b[0m             \u001b[0;32mbreak\u001b[0m\u001b[0;34m\u001b[0m\u001b[0m\n",
      "\u001b[0;31mKeyboardInterrupt\u001b[0m: "
     ]
    }
   ],
   "source": [
    "NUM_VERIFICATIONS = 1000\n",
    "\n",
    "cmd = \"{EXE_DIR_PATH}vocab_tree_retriever --database_path {DB_PATH} --vocab_tree_path {VOCAB_TREE_PATH} --save_index_path {SAVE_INDEX_PATH} --query_image_list_path {QUERY_IMAGE_LIST_PATH} --num_images {NUM_VERIFICATIONS}\".format( \\\n",
    "                EXE_DIR_PATH=EXE_DIR_PATH, \\\n",
    "                DB_PATH=DB_PATH, \\\n",
    "                VOCAB_TREE_PATH=VOCAB_TREE_PATH, \\\n",
    "                SAVE_INDEX_PATH=SAVE_INDEX_PATH, \\\n",
    "                QUERY_IMAGE_LIST_PATH=QUERY_IMAGE_LIST_PATH, \\\n",
    "                NUM_VERIFICATIONS=NUM_VERIFICATIONS)\n",
    "    \n",
    "run_cmd(cmd)"
   ]
  }
 ],
 "metadata": {
  "kernelspec": {
   "display_name": "tf1.3_global",
   "language": "python",
   "name": "tf1.3_global"
  },
  "language_info": {
   "codemirror_mode": {
    "name": "ipython",
    "version": 3
   },
   "file_extension": ".py",
   "mimetype": "text/x-python",
   "name": "python",
   "nbconvert_exporter": "python",
   "pygments_lexer": "ipython3",
   "version": "3.5.2"
  }
 },
 "nbformat": 4,
 "nbformat_minor": 2
}
